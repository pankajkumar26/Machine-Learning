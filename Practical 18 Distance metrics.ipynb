{
 "cells": [
  {
   "cell_type": "markdown",
   "id": "c603f1de",
   "metadata": {},
   "source": [
    "# Practical 18"
   ]
  },
  {
   "cell_type": "markdown",
   "id": "afdcb896",
   "metadata": {},
   "source": [
    "### Demonstrate different distance metrics using scipy library in python."
   ]
  },
  {
   "cell_type": "code",
   "execution_count": 1,
   "id": "b63da7e2",
   "metadata": {},
   "outputs": [
    {
     "data": {
      "text/plain": [
       "((1, 2, 3), (4, 5, 6))"
      ]
     },
     "execution_count": 1,
     "metadata": {},
     "output_type": "execute_result"
    }
   ],
   "source": [
    "from scipy.spatial import distance\n",
    "\n",
    "#defining the points\n",
    "point_1 = (1,2,3)\n",
    "point_2 = (4,5,6)\n",
    "point_1, point_2"
   ]
  },
  {
   "cell_type": "code",
   "execution_count": 2,
   "id": "6aa5befa",
   "metadata": {},
   "outputs": [
    {
     "name": "stdout",
     "output_type": "stream",
     "text": [
      "Euclidean Distance b/w (1, 2, 3) and (4, 5, 6) is:  5.196152422706632\n"
     ]
    }
   ],
   "source": [
    "# computing the euclidean distance\n",
    "\n",
    "euclidean_distance = distance.euclidean(point_1, point_2)\n",
    "print('Euclidean Distance b/w', point_1, 'and', point_2, 'is: ', euclidean_distance)"
   ]
  },
  {
   "cell_type": "code",
   "execution_count": 3,
   "id": "1fc8aefc",
   "metadata": {},
   "outputs": [
    {
     "name": "stdout",
     "output_type": "stream",
     "text": [
      "Manhattan Distance b/w (1, 2, 3) and (4, 5, 6) is:  9\n"
     ]
    }
   ],
   "source": [
    "# computing the manhattan distance\n",
    "\n",
    "manhattan_distance = distance.cityblock(point_1,point_2)\n",
    "print('Manhattan Distance b/w', point_1, 'and', point_2, 'is: ', manhattan_distance)"
   ]
  },
  {
   "cell_type": "code",
   "execution_count": 4,
   "id": "9e7f7b7e",
   "metadata": {},
   "outputs": [
    {
     "name": "stdout",
     "output_type": "stream",
     "text": [
      "Minkowski Distance b/w (1, 2, 3) and (4, 5, 6) is:  9.0 \n",
      "manhattan_distance:  9\n"
     ]
    }
   ],
   "source": [
    "# minkowski and manhattan distance comparision when p=1\n",
    "\n",
    "minkowski_distance_order_1 = distance.minkowski(point_1, point_2, p=1)\n",
    "print('Minkowski Distance b/w', point_1, 'and', point_2, 'is: ', minkowski_distance_order_1, '\\nmanhattan_distance: ', manhattan_distance)"
   ]
  },
  {
   "cell_type": "code",
   "execution_count": 5,
   "id": "c3bada85",
   "metadata": {},
   "outputs": [
    {
     "name": "stdout",
     "output_type": "stream",
     "text": [
      "Minkowski Distance of order 2: 5.196152422706632 \n",
      "euclidean_distance:  5.196152422706632\n"
     ]
    }
   ],
   "source": [
    "# minkowski and euclidean distance comparision when p=2\n",
    "\n",
    "minkowski_distance_order_1 = distance.minkowski(point_1, point_2, p=2)\n",
    "print('Minkowski Distance of order 2:', minkowski_distance_order_1, '\\neuclidean_distance: ', euclidean_distance)"
   ]
  },
  {
   "cell_type": "code",
   "execution_count": 6,
   "id": "b5aa7c20",
   "metadata": {},
   "outputs": [
    {
     "name": "stdout",
     "output_type": "stream",
     "text": [
      "Chebyshev Distance b/w (1, 2, 3) and (4, 5, 6) is:  3\n"
     ]
    }
   ],
   "source": [
    "# computing the Chebyshev distance\n",
    "\n",
    "Chebyshev_distance = distance.chebyshev(point_1, point_2)\n",
    "print('Chebyshev Distance b/w', point_1, 'and', point_2, 'is: ', Chebyshev_distance)"
   ]
  },
  {
   "cell_type": "code",
   "execution_count": 7,
   "id": "278c1c50",
   "metadata": {},
   "outputs": [
    {
     "name": "stdout",
     "output_type": "stream",
     "text": [
      "Minkowski Distance b/w (1, 2, 3) and (4, 5, 6) is:  5.196152422706632 \n",
      "Chebyshev_distance:  3\n"
     ]
    }
   ],
   "source": [
    "# minkowski and chebyshev distance comparision when p=2\n",
    "\n",
    "minkowski_distance_order_2 = distance.minkowski(point_1, point_2, p=2)\n",
    "print('Minkowski Distance b/w', point_1, 'and', point_2, 'is: ', minkowski_distance_order_2, '\\nChebyshev_distance: ', Chebyshev_distance)"
   ]
  },
  {
   "cell_type": "code",
   "execution_count": 9,
   "id": "a339590b",
   "metadata": {},
   "outputs": [
    {
     "name": "stdout",
     "output_type": "stream",
     "text": [
      "Hamming Distance b/w euclidean and manhattan is:  7.0\n"
     ]
    }
   ],
   "source": [
    "# Hamming distance for the two strings of same length\n",
    "string_1 = \"euclidean\"\n",
    "string_2 = \"manhattan\"\n",
    "hamming_distance = distance.hamming(list(string_1),list(string_2))*len(string_1)\n",
    "print('Hamming Distance b/w', string_1, 'and', string_2, 'is: ', hamming_distance)"
   ]
  },
  {
   "cell_type": "code",
   "execution_count": 11,
   "id": "18d5a22a",
   "metadata": {},
   "outputs": [
    {
     "ename": "ValueError",
     "evalue": "The 1d arrays must have equal lengths.",
     "output_type": "error",
     "traceback": [
      "\u001b[1;31m---------------------------------------------------------------------------\u001b[0m",
      "\u001b[1;31mValueError\u001b[0m                                Traceback (most recent call last)",
      "\u001b[1;32m~\\AppData\\Local\\Temp/ipykernel_19128/627272989.py\u001b[0m in \u001b[0;36m<module>\u001b[1;34m\u001b[0m\n\u001b[0;32m      3\u001b[0m \u001b[0ms1\u001b[0m\u001b[1;33m=\u001b[0m\u001b[1;34m'euclidean'\u001b[0m\u001b[1;33m\u001b[0m\u001b[1;33m\u001b[0m\u001b[0m\n\u001b[0;32m      4\u001b[0m \u001b[0ms2\u001b[0m\u001b[1;33m=\u001b[0m\u001b[1;34m'machine'\u001b[0m\u001b[1;33m\u001b[0m\u001b[1;33m\u001b[0m\u001b[0m\n\u001b[1;32m----> 5\u001b[1;33m \u001b[0mhaming_distance\u001b[0m\u001b[1;33m=\u001b[0m\u001b[0mdistance\u001b[0m\u001b[1;33m.\u001b[0m\u001b[0mhamming\u001b[0m\u001b[1;33m(\u001b[0m\u001b[0mlist\u001b[0m\u001b[1;33m(\u001b[0m\u001b[0ms1\u001b[0m\u001b[1;33m)\u001b[0m\u001b[1;33m,\u001b[0m\u001b[0mlist\u001b[0m\u001b[1;33m(\u001b[0m\u001b[0ms2\u001b[0m\u001b[1;33m)\u001b[0m\u001b[1;33m)\u001b[0m\u001b[1;33m*\u001b[0m\u001b[0mlen\u001b[0m\u001b[1;33m(\u001b[0m\u001b[0ms1\u001b[0m\u001b[1;33m)\u001b[0m\u001b[1;33m\u001b[0m\u001b[1;33m\u001b[0m\u001b[0m\n\u001b[0m\u001b[0;32m      6\u001b[0m \u001b[0mprint\u001b[0m\u001b[1;33m(\u001b[0m\u001b[1;34m'Hamming Distance b/w'\u001b[0m\u001b[1;33m,\u001b[0m\u001b[0ms1\u001b[0m\u001b[1;33m,\u001b[0m\u001b[1;34m'and'\u001b[0m\u001b[1;33m,\u001b[0m\u001b[0ms2\u001b[0m\u001b[1;33m,\u001b[0m\u001b[1;34m'is: '\u001b[0m\u001b[1;33m,\u001b[0m\u001b[0mhaming_distance\u001b[0m\u001b[1;33m)\u001b[0m\u001b[1;33m\u001b[0m\u001b[1;33m\u001b[0m\u001b[0m\n",
      "\u001b[1;32m~\\anaconda3\\lib\\site-packages\\scipy\\spatial\\distance.py\u001b[0m in \u001b[0;36mhamming\u001b[1;34m(u, v, w)\u001b[0m\n\u001b[0;32m    795\u001b[0m     \u001b[0mv\u001b[0m \u001b[1;33m=\u001b[0m \u001b[0m_validate_vector\u001b[0m\u001b[1;33m(\u001b[0m\u001b[0mv\u001b[0m\u001b[1;33m)\u001b[0m\u001b[1;33m\u001b[0m\u001b[1;33m\u001b[0m\u001b[0m\n\u001b[0;32m    796\u001b[0m     \u001b[1;32mif\u001b[0m \u001b[0mu\u001b[0m\u001b[1;33m.\u001b[0m\u001b[0mshape\u001b[0m \u001b[1;33m!=\u001b[0m \u001b[0mv\u001b[0m\u001b[1;33m.\u001b[0m\u001b[0mshape\u001b[0m\u001b[1;33m:\u001b[0m\u001b[1;33m\u001b[0m\u001b[1;33m\u001b[0m\u001b[0m\n\u001b[1;32m--> 797\u001b[1;33m         \u001b[1;32mraise\u001b[0m \u001b[0mValueError\u001b[0m\u001b[1;33m(\u001b[0m\u001b[1;34m'The 1d arrays must have equal lengths.'\u001b[0m\u001b[1;33m)\u001b[0m\u001b[1;33m\u001b[0m\u001b[1;33m\u001b[0m\u001b[0m\n\u001b[0m\u001b[0;32m    798\u001b[0m     \u001b[0mu_ne_v\u001b[0m \u001b[1;33m=\u001b[0m \u001b[0mu\u001b[0m \u001b[1;33m!=\u001b[0m \u001b[0mv\u001b[0m\u001b[1;33m\u001b[0m\u001b[1;33m\u001b[0m\u001b[0m\n\u001b[0;32m    799\u001b[0m     \u001b[1;32mif\u001b[0m \u001b[0mw\u001b[0m \u001b[1;32mis\u001b[0m \u001b[1;32mnot\u001b[0m \u001b[1;32mNone\u001b[0m\u001b[1;33m:\u001b[0m\u001b[1;33m\u001b[0m\u001b[1;33m\u001b[0m\u001b[0m\n",
      "\u001b[1;31mValueError\u001b[0m: The 1d arrays must have equal lengths."
     ]
    }
   ],
   "source": [
    "# Hamming distance for the two strings of unequal length\n",
    "# defining two string\n",
    "s1='euclidean'\n",
    "s2='machine'\n",
    "haming_distance=distance.hamming(list(s1),list(s2))*len(s1)\n",
    "print('Hamming Distance b/w',s1,'and',s2,'is: ',haming_distance)"
   ]
  },
  {
   "cell_type": "code",
   "execution_count": null,
   "id": "676e2091",
   "metadata": {},
   "outputs": [],
   "source": [
    "# Hamming distance works only for the strings with same length\n",
    "# for strings of different length it will not be able to calculate and hence showing error."
   ]
  }
 ],
 "metadata": {
  "kernelspec": {
   "display_name": "Python 3 (ipykernel)",
   "language": "python",
   "name": "python3"
  },
  "language_info": {
   "codemirror_mode": {
    "name": "ipython",
    "version": 3
   },
   "file_extension": ".py",
   "mimetype": "text/x-python",
   "name": "python",
   "nbconvert_exporter": "python",
   "pygments_lexer": "ipython3",
   "version": "3.9.7"
  }
 },
 "nbformat": 4,
 "nbformat_minor": 5
}
