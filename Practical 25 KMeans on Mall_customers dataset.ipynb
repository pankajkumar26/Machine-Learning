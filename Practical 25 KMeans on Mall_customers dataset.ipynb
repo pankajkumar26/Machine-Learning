{
 "cells": [
  {
   "cell_type": "markdown",
   "id": "a6546427",
   "metadata": {},
   "source": [
    "### Practical 25"
   ]
  },
  {
   "cell_type": "markdown",
   "id": "8d94fe9b",
   "metadata": {},
   "source": [
    "### Implement K-Means clustering for obtaining optimal no. of clusters and their centroids on Mall_Customers dataset."
   ]
  },
  {
   "cell_type": "code",
   "execution_count": 1,
   "id": "9149da7a",
   "metadata": {},
   "outputs": [],
   "source": [
    "# Dunn Index = min(Inter cluster distance)/max(Intra cluster distance)\n",
    "# Intra cluster distance should be high and inter cluster distance should be low"
   ]
  },
  {
   "cell_type": "code",
   "execution_count": 27,
   "id": "ae994c57",
   "metadata": {},
   "outputs": [],
   "source": [
    "import numpy as np\n",
    "import pandas as pd\n",
    "import matplotlib.pyplot as plt\n",
    "import sklearn\n",
    "import warnings\n",
    "warnings.filterwarnings('ignore')"
   ]
  },
  {
   "cell_type": "code",
   "execution_count": 29,
   "id": "cf36e3fd",
   "metadata": {},
   "outputs": [
    {
     "data": {
      "text/html": [
       "<div>\n",
       "<style scoped>\n",
       "    .dataframe tbody tr th:only-of-type {\n",
       "        vertical-align: middle;\n",
       "    }\n",
       "\n",
       "    .dataframe tbody tr th {\n",
       "        vertical-align: top;\n",
       "    }\n",
       "\n",
       "    .dataframe thead th {\n",
       "        text-align: right;\n",
       "    }\n",
       "</style>\n",
       "<table border=\"1\" class=\"dataframe\">\n",
       "  <thead>\n",
       "    <tr style=\"text-align: right;\">\n",
       "      <th></th>\n",
       "      <th>CustomerID</th>\n",
       "      <th>Genre</th>\n",
       "      <th>Age</th>\n",
       "      <th>Annual Income (k$)</th>\n",
       "      <th>Spending Score (1-100)</th>\n",
       "    </tr>\n",
       "  </thead>\n",
       "  <tbody>\n",
       "    <tr>\n",
       "      <th>0</th>\n",
       "      <td>1</td>\n",
       "      <td>Male</td>\n",
       "      <td>19</td>\n",
       "      <td>15</td>\n",
       "      <td>39</td>\n",
       "    </tr>\n",
       "    <tr>\n",
       "      <th>1</th>\n",
       "      <td>2</td>\n",
       "      <td>Male</td>\n",
       "      <td>21</td>\n",
       "      <td>15</td>\n",
       "      <td>81</td>\n",
       "    </tr>\n",
       "    <tr>\n",
       "      <th>2</th>\n",
       "      <td>3</td>\n",
       "      <td>Female</td>\n",
       "      <td>20</td>\n",
       "      <td>16</td>\n",
       "      <td>6</td>\n",
       "    </tr>\n",
       "    <tr>\n",
       "      <th>3</th>\n",
       "      <td>4</td>\n",
       "      <td>Female</td>\n",
       "      <td>23</td>\n",
       "      <td>16</td>\n",
       "      <td>77</td>\n",
       "    </tr>\n",
       "    <tr>\n",
       "      <th>4</th>\n",
       "      <td>5</td>\n",
       "      <td>Female</td>\n",
       "      <td>31</td>\n",
       "      <td>17</td>\n",
       "      <td>40</td>\n",
       "    </tr>\n",
       "  </tbody>\n",
       "</table>\n",
       "</div>"
      ],
      "text/plain": [
       "   CustomerID   Genre  Age  Annual Income (k$)  Spending Score (1-100)\n",
       "0           1    Male   19                  15                      39\n",
       "1           2    Male   21                  15                      81\n",
       "2           3  Female   20                  16                       6\n",
       "3           4  Female   23                  16                      77\n",
       "4           5  Female   31                  17                      40"
      ]
     },
     "execution_count": 29,
     "metadata": {},
     "output_type": "execute_result"
    }
   ],
   "source": [
    "# Importing the dataset\n",
    "# from the dataset, we need to find some patterns in it.\n",
    "dataset = pd.read_csv(\"D:/ML Dataset/Mall_Customers.csv\")\n",
    "dataset.head()"
   ]
  },
  {
   "cell_type": "code",
   "execution_count": 30,
   "id": "1c668d21",
   "metadata": {},
   "outputs": [
    {
     "data": {
      "text/plain": [
       "array([[15, 39],\n",
       "       [15, 81],\n",
       "       [16,  6],\n",
       "       [16, 77],\n",
       "       [17, 40],\n",
       "       [17, 76],\n",
       "       [18,  6],\n",
       "       [18, 94],\n",
       "       [19,  3],\n",
       "       [19, 72]], dtype=int64)"
      ]
     },
     "execution_count": 30,
     "metadata": {},
     "output_type": "execute_result"
    }
   ],
   "source": [
    "# Extracting Independent Variables only.\n",
    "\n",
    "# Here we don't need any dependent variable for data pre-processing step as it is a clustering problem. \n",
    "# and we have no idea about what to determine.\n",
    "# So we will just need a matrix of features or independent variables only.\n",
    "\n",
    "x = dataset.iloc[:,[3,4]].values\n",
    "x[0:10]\n",
    "# we are extracting only 3rd and 4th feature.\n",
    "# Because to visualize the 2-D plot of model some features such as customer_id and are not required."
   ]
  },
  {
   "cell_type": "code",
   "execution_count": 5,
   "id": "70314e13",
   "metadata": {},
   "outputs": [],
   "source": [
    "# Finding the optimal number of clusters using the elbow method\n",
    "\n",
    "# We import the KMeans class of sklearn.cluster library to form the clusters.\n",
    "\n",
    "from sklearn.cluster import KMeans\n",
    "\n",
    "# Next, we have created the wcss_list variable to initialize an empty list\n",
    "# which is used to contain the values of wcss computed for different values of k random\n",
    "\n",
    "wcss_list = [] #Initializing the list for the values of WCSS.\n",
    "\n",
    "# using for loop for iterations from 1 to 10.\n",
    "# Now we initialize the for loop for th eiteration on a different value of k ranging form 1 to 10.\n",
    "# Since for loop in python, exclude the outbound limit, so it is taken as 11 to include 10th value.\n",
    "# kmeans.inertia_attribute is : sum of squared distances of samples to their closest cluster center."
   ]
  },
  {
   "cell_type": "code",
   "execution_count": 6,
   "id": "211865ad",
   "metadata": {},
   "outputs": [],
   "source": [
    "# Within - Cluster - Sum - of - Squares (WCSS)\n",
    "# It calculates the sum of the squares of distances of the data point each and every cluster from its centroid.\n",
    "# The main idea is to minimize the distance between the data points and centroid of the clusters.\n",
    "# The process is iterated until we reach a minimum value for the sum of distances."
   ]
  },
  {
   "cell_type": "code",
   "execution_count": 7,
   "id": "13f3e90f",
   "metadata": {},
   "outputs": [],
   "source": [
    "# execute the k-means clustering value\n",
    "# calculate wcss value for each value\n",
    "\n",
    "# silhoot graph\n"
   ]
  },
  {
   "cell_type": "code",
   "execution_count": 8,
   "id": "edd7faba",
   "metadata": {},
   "outputs": [
    {
     "data": {
      "image/png": "[encoded data removed]",
      "text/plain": [
       "<Figure size 432x288 with 1 Axes>"
      ]
     },
     "metadata": {
      "needs_background": "light"
     },
     "output_type": "display_data"
    }
   ],
   "source": [
    "for i in range(1,11):\n",
    "    kmeans = KMeans(n_clusters = i, init = 'k-means++', random_state = 1)\n",
    "    kmeans.fit(x)\n",
    "    wcss_list.append(kmeans.inertia_) # inertia_ is a pre-defied attribute of KMeans\n",
    "plt.plot(range(1,11),wcss_list)\n",
    "plt.title('The Elbow Method Graph')\n",
    "plt.xlabel('Number of clusters(k)')\n",
    "plt.ylabel('wcss_list')\n",
    "plt.show()"
   ]
  },
  {
   "cell_type": "code",
   "execution_count": 9,
   "id": "24e273f4",
   "metadata": {},
   "outputs": [],
   "source": [
    "# install kneed library using the command: conda install -c conda-forge kneed"
   ]
  },
  {
   "cell_type": "code",
   "execution_count": 10,
   "id": "cbff383c",
   "metadata": {},
   "outputs": [
    {
     "data": {
      "text/plain": [
       "5"
      ]
     },
     "execution_count": 10,
     "metadata": {},
     "output_type": "execute_result"
    }
   ],
   "source": [
    "from kneed import KneeLocator\n",
    "kl = KneeLocator(range(1,11),wcss_list, curve = \"convex\", direction = 'decreasing')\n",
    "kl.elbow\n",
    "# Since the elbow point is at 5. So the number of clusters here will be 5.\n"
   ]
  },
  {
   "cell_type": "code",
   "execution_count": 17,
   "id": "1f290437",
   "metadata": {},
   "outputs": [],
   "source": [
    "# Training the K-means algorithm on the training dataset\n",
    "\n",
    "#To train the model, we'll be using the same two lines of code as above\n",
    "#but here instead of using i, we will use 5, as we know there are 5 cluster that need to \n",
    "\n",
    "# Training the K-means model on a dataset\n",
    "\n",
    "kmeans = KMeans(n_clusters = 5, init = 'k-means++', random_state = 1)\n",
    "\n",
    "#we are going to use the fit predict method that returns for each observation \n",
    "\n",
    "y_predict = kmeans.fit_predict(x)\n",
    "#In the second line of code, we have created the dependent variable y_predict to train the \n",
    "\n",
    "# By executing the above lines of code, we will get the y_predict variable."
   ]
  },
  {
   "cell_type": "code",
   "execution_count": 18,
   "id": "d5233573",
   "metadata": {},
   "outputs": [
    {
     "data": {
      "text/plain": [
       "array([4, 0, 4, 0, 4, 0, 4, 0, 4, 0, 4, 0, 4, 0, 4, 0, 4, 0, 4, 0, 4, 0,\n",
       "       4, 0, 4, 0, 4, 0, 4, 0, 4, 0, 4, 0, 4, 0, 4, 0, 4, 0, 4, 0, 4, 2,\n",
       "       4, 0, 2, 2, 2, 2, 2, 2, 2, 2, 2, 2, 2, 2, 2, 2, 2, 2, 2, 2, 2, 2,\n",
       "       2, 2, 2, 2, 2, 2, 2, 2, 2, 2, 2, 2, 2, 2, 2, 2, 2, 2, 2, 2, 2, 2,\n",
       "       2, 2, 2, 2, 2, 2, 2, 2, 2, 2, 2, 2, 2, 2, 2, 2, 2, 2, 2, 2, 2, 2,\n",
       "       2, 2, 2, 2, 2, 2, 2, 2, 2, 2, 2, 2, 2, 3, 1, 3, 2, 3, 1, 3, 1, 3,\n",
       "       2, 3, 1, 3, 1, 3, 1, 3, 1, 3, 2, 3, 1, 3, 1, 3, 1, 3, 1, 3, 1, 3,\n",
       "       1, 3, 1, 3, 1, 3, 1, 3, 1, 3, 1, 3, 1, 3, 1, 3, 1, 3, 1, 3, 1, 3,\n",
       "       1, 3, 1, 3, 1, 3, 1, 3, 1, 3, 1, 3, 1, 3, 1, 3, 1, 3, 1, 3, 1, 3,\n",
       "       1, 3])"
      ]
     },
     "execution_count": 18,
     "metadata": {},
     "output_type": "execute_result"
    }
   ],
   "source": [
    "y_predict\n"
   ]
  },
  {
   "cell_type": "code",
   "execution_count": 19,
   "id": "eafb18ab",
   "metadata": {},
   "outputs": [
    {
     "data": {
      "image/png": "[encoded data removed]",
      "text/plain": [
       "<Figure size 432x288 with 1 Axes>"
      ]
     },
     "metadata": {
      "needs_background": "light"
     },
     "output_type": "display_data"
    }
   ],
   "source": [
    "# Visualizing Original Data Points without clustering\n",
    "\n",
    "plt.scatter(x[:,0],x[:,1],c=\"blue\", label=\"All DAta points\")\n",
    "plt.title('Original customer DAta points')\n",
    "plt.xlabel('Annnual income ($)')\n",
    "plt.ylabel('Spending Score(1-100)')\n",
    "plt.legend()\n",
    "plt.show()"
   ]
  },
  {
   "cell_type": "code",
   "execution_count": 24,
   "id": "5faefaa3",
   "metadata": {},
   "outputs": [
    {
     "data": {
      "image/png": "[encoded data removed]",
      "text/plain": [
       "<Figure size 432x288 with 1 Axes>"
      ]
     },
     "metadata": {
      "needs_background": "light"
     },
     "output_type": "display_data"
    }
   ],
   "source": [
    "# For first cluster\n",
    "\n",
    "plt.scatter(x[y_predict == 0,0], x[y_predict == 0,1], s=50, c='blue', label='Cluster 1')\n",
    "\n",
    "# For second cluster\n",
    "\n",
    "plt.scatter(x[y_predict == 1,0], x[y_predict == 1,1], s=50, c='green', label='Cluster 2')\n",
    "\n",
    "# For third cluster\n",
    "\n",
    "plt.scatter(x[y_predict == 2,0], x[y_predict == 2,1], s=50, c='red', label='Cluster 3')\n",
    "\n",
    "# For forth cluster\n",
    "\n",
    "plt.scatter(x[y_predict == 3,0], x[y_predict == 3,1], s=50, c='yellow', label='Cluster 4')\n",
    "\n",
    "# For fifth cluster\n",
    "\n",
    "plt.scatter(x[y_predict == 4,0], x[y_predict == 4,1], s=50, c='cyan', label='Cluster 5')\n",
    "\n",
    "# Plot the centroid. This time we're going to use the kmeans.Cluster_centers_\n",
    "# attribute that returns here the coordinates of the centroid.\n",
    "\n",
    "plt.scatter(kmeans.cluster_centers_[:,0], kmeans.cluster_centers_[:,1], s=100, c = 'black', label='Centeroid' )\n",
    "plt.title(\"cluster of customer\")\n",
    "plt.xlabel(\"annual income ($)\")\n",
    "plt.ylabel(\"spending score (1-100)\")\n",
    "plt.legend()\n",
    "plt.show()"
   ]
  },
  {
   "cell_type": "code",
   "execution_count": 25,
   "id": "5f6a2f6a",
   "metadata": {},
   "outputs": [
    {
     "name": "stdout",
     "output_type": "stream",
     "text": [
      "[[25.72727273 79.36363636]\n",
      " [88.2        17.11428571]\n",
      " [55.2962963  49.51851852]\n",
      " [86.53846154 82.12820513]\n",
      " [26.30434783 20.91304348]]\n"
     ]
    }
   ],
   "source": [
    "print(kmeans.cluster_centers_)"
   ]
  },
  {
   "cell_type": "code",
   "execution_count": 26,
   "id": "8bba69ca",
   "metadata": {},
   "outputs": [
    {
     "data": {
      "text/plain": [
       "array([4, 0, 4, 0, 4, 0, 4, 0, 4, 0, 4, 0, 4, 0, 4, 0, 4, 0, 4, 0, 4, 0,\n",
       "       4, 0, 4, 0, 4, 0, 4, 0, 4, 0, 4, 0, 4, 0, 4, 0, 4, 0, 4, 0, 4, 2,\n",
       "       4, 0, 2, 2, 2, 2, 2, 2, 2, 2, 2, 2, 2, 2, 2, 2, 2, 2, 2, 2, 2, 2,\n",
       "       2, 2, 2, 2, 2, 2, 2, 2, 2, 2, 2, 2, 2, 2, 2, 2, 2, 2, 2, 2, 2, 2,\n",
       "       2, 2, 2, 2, 2, 2, 2, 2, 2, 2, 2, 2, 2, 2, 2, 2, 2, 2, 2, 2, 2, 2,\n",
       "       2, 2, 2, 2, 2, 2, 2, 2, 2, 2, 2, 2, 2, 3, 1, 3, 2, 3, 1, 3, 1, 3,\n",
       "       2, 3, 1, 3, 1, 3, 1, 3, 1, 3, 2, 3, 1, 3, 1, 3, 1, 3, 1, 3, 1, 3,\n",
       "       1, 3, 1, 3, 1, 3, 1, 3, 1, 3, 1, 3, 1, 3, 1, 3, 1, 3, 1, 3, 1, 3,\n",
       "       1, 3, 1, 3, 1, 3, 1, 3, 1, 3, 1, 3, 1, 3, 1, 3, 1, 3, 1, 3, 1, 3,\n",
       "       1, 3])"
      ]
     },
     "execution_count": 26,
     "metadata": {},
     "output_type": "execute_result"
    }
   ],
   "source": [
    "labels = kmeans.labels_\n",
    "labels"
   ]
  }
 ],
 "metadata": {
  "kernelspec": {
   "display_name": "Python 3 (ipykernel)",
   "language": "python",
   "name": "python3"
  },
  "language_info": {
   "codemirror_mode": {
    "name": "ipython",
    "version": 3
   },
   "file_extension": ".py",
   "mimetype": "text/x-python",
   "name": "python",
   "nbconvert_exporter": "python",
   "pygments_lexer": "ipython3",
   "version": "3.9.7"
  }
 },
 "nbformat": 4,
 "nbformat_minor": 5
}
