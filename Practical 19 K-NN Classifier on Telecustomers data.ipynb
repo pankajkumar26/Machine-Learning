{
 "cells": [
  {
   "cell_type": "markdown",
   "id": "b031fb69",
   "metadata": {},
   "source": [
    "# Practical 19"
   ]
  },
  {
   "cell_type": "markdown",
   "id": "948821c0",
   "metadata": {},
   "source": [
    "### For Teleco Churn DataSet Train a model using KNN Classifier and select K neighbours to find out optimal value K. Also find accuracy score for each Neighbour."
   ]
  },
  {
   "cell_type": "code",
   "execution_count": 1,
   "id": "c12f7392",
   "metadata": {},
   "outputs": [],
   "source": [
    "import numpy as np\n",
    "import pandas as pd\n",
    "from matplotlib import pyplot\n",
    "import matplotlib.pyplot as plt\n",
    "from sklearn import preprocessing"
   ]
  },
  {
   "cell_type": "code",
   "execution_count": 2,
   "id": "4483f4a9",
   "metadata": {},
   "outputs": [],
   "source": [
    "# As you can see, there are 12 columns, namely as region, tenure, age, marital, address, income\n",
    "# ed, employ, retire, gender, reside, and custcat.\n",
    "# we have a target column, 'custcat' categorizes the customers into four groups which are 1,2,3,4"
   ]
  },
  {
   "cell_type": "code",
   "execution_count": 3,
   "id": "41be1eed",
   "metadata": {},
   "outputs": [
    {
     "data": {
      "text/html": [
       "<div>\n",
       "<style scoped>\n",
       "    .dataframe tbody tr th:only-of-type {\n",
       "        vertical-align: middle;\n",
       "    }\n",
       "\n",
       "    .dataframe tbody tr th {\n",
       "        vertical-align: top;\n",
       "    }\n",
       "\n",
       "    .dataframe thead th {\n",
       "        text-align: right;\n",
       "    }\n",
       "</style>\n",
       "<table border=\"1\" class=\"dataframe\">\n",
       "  <thead>\n",
       "    <tr style=\"text-align: right;\">\n",
       "      <th></th>\n",
       "      <th>region</th>\n",
       "      <th>tenure</th>\n",
       "      <th>age</th>\n",
       "      <th>marital</th>\n",
       "      <th>address</th>\n",
       "      <th>income</th>\n",
       "      <th>ed</th>\n",
       "      <th>employ</th>\n",
       "      <th>retire</th>\n",
       "      <th>gender</th>\n",
       "      <th>reside</th>\n",
       "      <th>custcat</th>\n",
       "    </tr>\n",
       "  </thead>\n",
       "  <tbody>\n",
       "    <tr>\n",
       "      <th>0</th>\n",
       "      <td>2</td>\n",
       "      <td>13</td>\n",
       "      <td>44</td>\n",
       "      <td>1</td>\n",
       "      <td>9</td>\n",
       "      <td>64.0</td>\n",
       "      <td>4</td>\n",
       "      <td>5</td>\n",
       "      <td>0.0</td>\n",
       "      <td>0</td>\n",
       "      <td>2</td>\n",
       "      <td>1</td>\n",
       "    </tr>\n",
       "    <tr>\n",
       "      <th>1</th>\n",
       "      <td>3</td>\n",
       "      <td>11</td>\n",
       "      <td>33</td>\n",
       "      <td>1</td>\n",
       "      <td>7</td>\n",
       "      <td>136.0</td>\n",
       "      <td>5</td>\n",
       "      <td>5</td>\n",
       "      <td>0.0</td>\n",
       "      <td>0</td>\n",
       "      <td>6</td>\n",
       "      <td>4</td>\n",
       "    </tr>\n",
       "    <tr>\n",
       "      <th>2</th>\n",
       "      <td>3</td>\n",
       "      <td>68</td>\n",
       "      <td>52</td>\n",
       "      <td>1</td>\n",
       "      <td>24</td>\n",
       "      <td>116.0</td>\n",
       "      <td>1</td>\n",
       "      <td>29</td>\n",
       "      <td>0.0</td>\n",
       "      <td>1</td>\n",
       "      <td>2</td>\n",
       "      <td>3</td>\n",
       "    </tr>\n",
       "    <tr>\n",
       "      <th>3</th>\n",
       "      <td>2</td>\n",
       "      <td>33</td>\n",
       "      <td>33</td>\n",
       "      <td>0</td>\n",
       "      <td>12</td>\n",
       "      <td>33.0</td>\n",
       "      <td>2</td>\n",
       "      <td>0</td>\n",
       "      <td>0.0</td>\n",
       "      <td>1</td>\n",
       "      <td>1</td>\n",
       "      <td>1</td>\n",
       "    </tr>\n",
       "    <tr>\n",
       "      <th>4</th>\n",
       "      <td>2</td>\n",
       "      <td>23</td>\n",
       "      <td>30</td>\n",
       "      <td>1</td>\n",
       "      <td>9</td>\n",
       "      <td>30.0</td>\n",
       "      <td>1</td>\n",
       "      <td>2</td>\n",
       "      <td>0.0</td>\n",
       "      <td>0</td>\n",
       "      <td>4</td>\n",
       "      <td>3</td>\n",
       "    </tr>\n",
       "  </tbody>\n",
       "</table>\n",
       "</div>"
      ],
      "text/plain": [
       "   region  tenure  age  marital  address  income  ed  employ  retire  gender  \\\n",
       "0       2      13   44        1        9    64.0   4       5     0.0       0   \n",
       "1       3      11   33        1        7   136.0   5       5     0.0       0   \n",
       "2       3      68   52        1       24   116.0   1      29     0.0       1   \n",
       "3       2      33   33        0       12    33.0   2       0     0.0       1   \n",
       "4       2      23   30        1        9    30.0   1       2     0.0       0   \n",
       "\n",
       "   reside  custcat  \n",
       "0       2        1  \n",
       "1       6        4  \n",
       "2       2        3  \n",
       "3       1        1  \n",
       "4       4        3  "
      ]
     },
     "execution_count": 3,
     "metadata": {},
     "output_type": "execute_result"
    }
   ],
   "source": [
    "dataset = pd.read_csv(\"D:/ML Dataset/Telecustomers.csv\")\n",
    "dataset.head(5)"
   ]
  },
  {
   "cell_type": "code",
   "execution_count": 26,
   "id": "e3381d6f",
   "metadata": {},
   "outputs": [
    {
     "data": {
      "text/html": [
       "<div>\n",
       "<style scoped>\n",
       "    .dataframe tbody tr th:only-of-type {\n",
       "        vertical-align: middle;\n",
       "    }\n",
       "\n",
       "    .dataframe tbody tr th {\n",
       "        vertical-align: top;\n",
       "    }\n",
       "\n",
       "    .dataframe thead th {\n",
       "        text-align: right;\n",
       "    }\n",
       "</style>\n",
       "<table border=\"1\" class=\"dataframe\">\n",
       "  <thead>\n",
       "    <tr style=\"text-align: right;\">\n",
       "      <th></th>\n",
       "      <th>region</th>\n",
       "      <th>tenure</th>\n",
       "      <th>age</th>\n",
       "      <th>marital</th>\n",
       "      <th>address</th>\n",
       "      <th>income</th>\n",
       "      <th>ed</th>\n",
       "      <th>employ</th>\n",
       "      <th>retire</th>\n",
       "      <th>gender</th>\n",
       "      <th>reside</th>\n",
       "      <th>custcat</th>\n",
       "    </tr>\n",
       "  </thead>\n",
       "  <tbody>\n",
       "    <tr>\n",
       "      <th>count</th>\n",
       "      <td>1000.0000</td>\n",
       "      <td>1000.000000</td>\n",
       "      <td>1000.000000</td>\n",
       "      <td>1000.000000</td>\n",
       "      <td>1000.000000</td>\n",
       "      <td>1000.000000</td>\n",
       "      <td>1000.000000</td>\n",
       "      <td>1000.000000</td>\n",
       "      <td>1000.000000</td>\n",
       "      <td>1000.000000</td>\n",
       "      <td>1000.000000</td>\n",
       "      <td>1000.000000</td>\n",
       "    </tr>\n",
       "    <tr>\n",
       "      <th>mean</th>\n",
       "      <td>2.0220</td>\n",
       "      <td>35.526000</td>\n",
       "      <td>41.684000</td>\n",
       "      <td>0.495000</td>\n",
       "      <td>11.551000</td>\n",
       "      <td>77.535000</td>\n",
       "      <td>2.671000</td>\n",
       "      <td>10.987000</td>\n",
       "      <td>0.047000</td>\n",
       "      <td>0.517000</td>\n",
       "      <td>2.331000</td>\n",
       "      <td>2.487000</td>\n",
       "    </tr>\n",
       "    <tr>\n",
       "      <th>std</th>\n",
       "      <td>0.8162</td>\n",
       "      <td>21.359812</td>\n",
       "      <td>12.558816</td>\n",
       "      <td>0.500225</td>\n",
       "      <td>10.086681</td>\n",
       "      <td>107.044165</td>\n",
       "      <td>1.222397</td>\n",
       "      <td>10.082087</td>\n",
       "      <td>0.211745</td>\n",
       "      <td>0.499961</td>\n",
       "      <td>1.435793</td>\n",
       "      <td>1.120306</td>\n",
       "    </tr>\n",
       "    <tr>\n",
       "      <th>min</th>\n",
       "      <td>1.0000</td>\n",
       "      <td>1.000000</td>\n",
       "      <td>18.000000</td>\n",
       "      <td>0.000000</td>\n",
       "      <td>0.000000</td>\n",
       "      <td>9.000000</td>\n",
       "      <td>1.000000</td>\n",
       "      <td>0.000000</td>\n",
       "      <td>0.000000</td>\n",
       "      <td>0.000000</td>\n",
       "      <td>1.000000</td>\n",
       "      <td>1.000000</td>\n",
       "    </tr>\n",
       "    <tr>\n",
       "      <th>25%</th>\n",
       "      <td>1.0000</td>\n",
       "      <td>17.000000</td>\n",
       "      <td>32.000000</td>\n",
       "      <td>0.000000</td>\n",
       "      <td>3.000000</td>\n",
       "      <td>29.000000</td>\n",
       "      <td>2.000000</td>\n",
       "      <td>3.000000</td>\n",
       "      <td>0.000000</td>\n",
       "      <td>0.000000</td>\n",
       "      <td>1.000000</td>\n",
       "      <td>1.000000</td>\n",
       "    </tr>\n",
       "    <tr>\n",
       "      <th>50%</th>\n",
       "      <td>2.0000</td>\n",
       "      <td>34.000000</td>\n",
       "      <td>40.000000</td>\n",
       "      <td>0.000000</td>\n",
       "      <td>9.000000</td>\n",
       "      <td>47.000000</td>\n",
       "      <td>3.000000</td>\n",
       "      <td>8.000000</td>\n",
       "      <td>0.000000</td>\n",
       "      <td>1.000000</td>\n",
       "      <td>2.000000</td>\n",
       "      <td>3.000000</td>\n",
       "    </tr>\n",
       "    <tr>\n",
       "      <th>75%</th>\n",
       "      <td>3.0000</td>\n",
       "      <td>54.000000</td>\n",
       "      <td>51.000000</td>\n",
       "      <td>1.000000</td>\n",
       "      <td>18.000000</td>\n",
       "      <td>83.000000</td>\n",
       "      <td>4.000000</td>\n",
       "      <td>17.000000</td>\n",
       "      <td>0.000000</td>\n",
       "      <td>1.000000</td>\n",
       "      <td>3.000000</td>\n",
       "      <td>3.000000</td>\n",
       "    </tr>\n",
       "    <tr>\n",
       "      <th>max</th>\n",
       "      <td>3.0000</td>\n",
       "      <td>72.000000</td>\n",
       "      <td>77.000000</td>\n",
       "      <td>1.000000</td>\n",
       "      <td>55.000000</td>\n",
       "      <td>1668.000000</td>\n",
       "      <td>5.000000</td>\n",
       "      <td>47.000000</td>\n",
       "      <td>1.000000</td>\n",
       "      <td>1.000000</td>\n",
       "      <td>8.000000</td>\n",
       "      <td>4.000000</td>\n",
       "    </tr>\n",
       "  </tbody>\n",
       "</table>\n",
       "</div>"
      ],
      "text/plain": [
       "          region       tenure          age      marital      address  \\\n",
       "count  1000.0000  1000.000000  1000.000000  1000.000000  1000.000000   \n",
       "mean      2.0220    35.526000    41.684000     0.495000    11.551000   \n",
       "std       0.8162    21.359812    12.558816     0.500225    10.086681   \n",
       "min       1.0000     1.000000    18.000000     0.000000     0.000000   \n",
       "25%       1.0000    17.000000    32.000000     0.000000     3.000000   \n",
       "50%       2.0000    34.000000    40.000000     0.000000     9.000000   \n",
       "75%       3.0000    54.000000    51.000000     1.000000    18.000000   \n",
       "max       3.0000    72.000000    77.000000     1.000000    55.000000   \n",
       "\n",
       "            income           ed       employ       retire       gender  \\\n",
       "count  1000.000000  1000.000000  1000.000000  1000.000000  1000.000000   \n",
       "mean     77.535000     2.671000    10.987000     0.047000     0.517000   \n",
       "std     107.044165     1.222397    10.082087     0.211745     0.499961   \n",
       "min       9.000000     1.000000     0.000000     0.000000     0.000000   \n",
       "25%      29.000000     2.000000     3.000000     0.000000     0.000000   \n",
       "50%      47.000000     3.000000     8.000000     0.000000     1.000000   \n",
       "75%      83.000000     4.000000    17.000000     0.000000     1.000000   \n",
       "max    1668.000000     5.000000    47.000000     1.000000     1.000000   \n",
       "\n",
       "            reside      custcat  \n",
       "count  1000.000000  1000.000000  \n",
       "mean      2.331000     2.487000  \n",
       "std       1.435793     1.120306  \n",
       "min       1.000000     1.000000  \n",
       "25%       1.000000     1.000000  \n",
       "50%       2.000000     3.000000  \n",
       "75%       3.000000     3.000000  \n",
       "max       8.000000     4.000000  "
      ]
     },
     "execution_count": 26,
     "metadata": {},
     "output_type": "execute_result"
    }
   ],
   "source": [
    "dataset.describe()"
   ]
  },
  {
   "cell_type": "code",
   "execution_count": 5,
   "id": "ba362047",
   "metadata": {},
   "outputs": [
    {
     "data": {
      "text/plain": [
       "3    281\n",
       "1    266\n",
       "4    236\n",
       "2    217\n",
       "Name: custcat, dtype: int64"
      ]
     },
     "execution_count": 5,
     "metadata": {},
     "output_type": "execute_result"
    }
   ],
   "source": [
    "dataset['custcat'].value_counts()"
   ]
  },
  {
   "cell_type": "code",
   "execution_count": 6,
   "id": "a0bb16c5",
   "metadata": {},
   "outputs": [
    {
     "data": {
      "text/plain": [
       "Index(['region', 'tenure', 'age', 'marital', 'address', 'income', 'ed',\n",
       "       'employ', 'retire', 'gender', 'reside', 'custcat'],\n",
       "      dtype='object')"
      ]
     },
     "execution_count": 6,
     "metadata": {},
     "output_type": "execute_result"
    }
   ],
   "source": [
    "dataset.columns"
   ]
  },
  {
   "cell_type": "code",
   "execution_count": 27,
   "id": "05465536",
   "metadata": {},
   "outputs": [
    {
     "name": "stdout",
     "output_type": "stream",
     "text": [
      "Independent Variable : \n",
      "    region  tenure  age  marital  address  income  ed  employ  retire  gender\n",
      "0       2      13   44        1        9    64.0   4       5     0.0       0\n",
      "1       3      11   33        1        7   136.0   5       5     0.0       0\n",
      "2       3      68   52        1       24   116.0   1      29     0.0       1\n",
      "3       2      33   33        0       12    33.0   2       0     0.0       1\n",
      "4       2      23   30        1        9    30.0   1       2     0.0       0\n",
      "Dependent Variable : \n",
      " [1 4 3 1 3]\n"
     ]
    }
   ],
   "source": [
    "# we collect all independent data features into the X data-frame and target field in \n",
    "\n",
    "X = dataset[['region', 'tenure', 'age', 'marital', 'address', 'income','ed','employ','retire','gender']]\n",
    "print('Independent Variable :','\\n',X[0:5])\n",
    "\n",
    "y = dataset['custcat'].values\n",
    "print('Dependent Variable :','\\n',y[0:5])\n"
   ]
  },
  {
   "cell_type": "code",
   "execution_count": 28,
   "id": "27e1819b",
   "metadata": {},
   "outputs": [],
   "source": [
    "# Now we manipulate the data and normalize it.\n",
    "# Normalisizing value of the Independent Variable set\n",
    "# This is to save memory and the required steps to do the same.\n",
    "# Here we are using anonymous objects\n",
    "#Anonymous objects - without creating defined objects they are used to perform as objects\n",
    "\n",
    "from sklearn import preprocessing\n",
    "X = preprocessing.StandardScaler().fit(X).transform(X.astype(float))"
   ]
  },
  {
   "cell_type": "code",
   "execution_count": 29,
   "id": "f42f505f",
   "metadata": {},
   "outputs": [
    {
     "data": {
      "text/plain": [
       "array([[-0.02696767, -1.055125  ,  0.18450456,  1.0100505 , -0.25303431,\n",
       "        -0.12650641,  1.0877526 , -0.5941226 , -0.22207644, -1.03459817],\n",
       "       [ 1.19883553, -1.14880563, -0.69181243,  1.0100505 , -0.4514148 ,\n",
       "         0.54644972,  1.9062271 , -0.5941226 , -0.22207644, -1.03459817],\n",
       "       [ 1.19883553,  1.52109247,  0.82182601,  1.0100505 ,  1.23481934,\n",
       "         0.35951747, -1.36767088,  1.78752803, -0.22207644,  0.96655883],\n",
       "       [-0.02696767, -0.11831864, -0.69181243, -0.9900495 ,  0.04453642,\n",
       "        -0.41625141, -0.54919639, -1.09029981, -0.22207644,  0.96655883],\n",
       "       [-0.02696767, -0.58672182, -0.93080797,  1.0100505 , -0.25303431,\n",
       "        -0.44429125, -1.36767088, -0.89182893, -0.22207644, -1.03459817]])"
      ]
     },
     "execution_count": 29,
     "metadata": {},
     "output_type": "execute_result"
    }
   ],
   "source": [
    "# Normalized values of Independent variable set X\n",
    "\n",
    "X[0:5]"
   ]
  },
  {
   "cell_type": "code",
   "execution_count": 10,
   "id": "3db7fb4c",
   "metadata": {},
   "outputs": [],
   "source": [
    "# Now splitting the data, we take 0.8% data for training and remaining for test size.\n",
    "\n",
    "from sklearn.model_selection import train_test_split\n",
    "X_train, X_test, y_train, y_test = train_test_split(X, y, test_size = 0.2, random_state = 4)"
   ]
  },
  {
   "cell_type": "code",
   "execution_count": 30,
   "id": "2268af43",
   "metadata": {},
   "outputs": [
    {
     "name": "stdout",
     "output_type": "stream",
     "text": [
      "Accuracy of model at K=4 is 0.325\n"
     ]
    }
   ],
   "source": [
    "# We import the classifier model from the sklearn library and fit the model by initializing K=4\n",
    "# So we have achived an accuracy of 0.32 here.\n",
    "\n",
    "from sklearn.neighbors import KNeighborsClassifier\n",
    "from sklearn import metrics\n",
    "\n",
    "# Train Model and Predict\n",
    "# checking for K=4\n",
    "# p is the lambda hyper parameter\n",
    "# Only fitting the data not transforming it because it will change the \n",
    "\n",
    "k=4\n",
    "knnClassifier = KNeighborsClassifier(n_neighbors = k, metric = 'minkowski', p=2). fit(X_train,y_train)\n",
    "Pred_y = knnClassifier.predict(X_test)\n",
    "print(\"Accuracy of model at K=4 is\", metrics. accuracy_score(y_test,Pred_y))"
   ]
  },
  {
   "cell_type": "code",
   "execution_count": 31,
   "id": "629ccaf5",
   "metadata": {},
   "outputs": [
    {
     "name": "stdout",
     "output_type": "stream",
     "text": [
      "Accuracy of model at K=5 is 0.335\n"
     ]
    }
   ],
   "source": [
    "# Now let us try to improve the odel accuracy and find out the optimal k value.\n",
    "\n",
    "# To find the best value of k we take some range of values of k and\n",
    "# then we will calculate the mean error rate of all these Ks.\n",
    "\n",
    "# Let us take K = 5\n",
    "\n",
    "k = 5\n",
    "knnClassifier = KNeighborsClassifier(n_neighbors = k, metric = 'minkowski', p=2). fit(X_train,y_train)\n",
    "Pred_y = knnClassifier.predict(X_test)\n",
    "print(\"Accuracy of model at K=5 is\", metrics. accuracy_score(y_test,Pred_y))"
   ]
  },
  {
   "cell_type": "code",
   "execution_count": 32,
   "id": "ac561a74",
   "metadata": {},
   "outputs": [
    {
     "name": "stdout",
     "output_type": "stream",
     "text": [
      "Accuracy of model at K=6 is 0.32\n"
     ]
    }
   ],
   "source": [
    "# Let us take K = 6\n",
    "\n",
    "k = 6\n",
    "knnClassifier = KNeighborsClassifier(n_neighbors = k, metric = 'minkowski', p=2). fit(X_train,y_train)\n",
    "Pred_y = knnClassifier.predict(X_test)\n",
    "print(\"Accuracy of model at K=6 is\", metrics. accuracy_score(y_test,Pred_y))"
   ]
  },
  {
   "cell_type": "code",
   "execution_count": 33,
   "id": "88be4420",
   "metadata": {},
   "outputs": [
    {
     "name": "stdout",
     "output_type": "stream",
     "text": [
      "Accuracy of model at K=7 is 0.35\n"
     ]
    }
   ],
   "source": [
    "# Let us take K = 7\n",
    "\n",
    "k = 7\n",
    "knnClassifier = KNeighborsClassifier(n_neighbors = k, metric = 'minkowski', p=2). fit(X_train,y_train)\n",
    "Pred_y = knnClassifier.predict(X_test)\n",
    "print(\"Accuracy of model at K=7 is\", metrics. accuracy_score(y_test,Pred_y))"
   ]
  },
  {
   "cell_type": "code",
   "execution_count": 34,
   "id": "eaa1355d",
   "metadata": {},
   "outputs": [
    {
     "name": "stdout",
     "output_type": "stream",
     "text": [
      "Accuracy of model at K=8 is 0.345\n"
     ]
    }
   ],
   "source": [
    "# Let us take K = 8\n",
    "\n",
    "k = 8\n",
    "knnClassifier = KNeighborsClassifier(n_neighbors = k, metric = 'minkowski', p=2). fit(X_train,y_train)\n",
    "Pred_y = knnClassifier.predict(X_test)\n",
    "print(\"Accuracy of model at K=8 is\", metrics. accuracy_score(y_test,Pred_y))"
   ]
  },
  {
   "cell_type": "code",
   "execution_count": 35,
   "id": "8e850225",
   "metadata": {},
   "outputs": [
    {
     "name": "stdout",
     "output_type": "stream",
     "text": [
      "Accuracy of model at K=16 is 0.35\n"
     ]
    }
   ],
   "source": [
    "# Let us take K = 16\n",
    "\n",
    "k = 16\n",
    "knnClassifier = KNeighborsClassifier(n_neighbors = k, metric = 'minkowski', p=2). fit(X_train,y_train)\n",
    "Pred_y = knnClassifier.predict(X_test)\n",
    "print(\"Accuracy of model at K=16 is\", metrics. accuracy_score(y_test,Pred_y))"
   ]
  },
  {
   "cell_type": "code",
   "execution_count": 36,
   "id": "44c7e598",
   "metadata": {},
   "outputs": [
    {
     "name": "stdout",
     "output_type": "stream",
     "text": [
      "Accuracy of model at K=30 is 0.365\n"
     ]
    }
   ],
   "source": [
    "# Let us take K = 30\n",
    "\n",
    "k = 30\n",
    "knnClassifier = KNeighborsClassifier(n_neighbors = k, metric = 'minkowski', p=2). fit(X_train,y_train)\n",
    "Pred_y = knnClassifier.predict(X_test)\n",
    "print(\"Accuracy of model at K=30 is\", metrics. accuracy_score(y_test,Pred_y))"
   ]
  },
  {
   "cell_type": "code",
   "execution_count": 37,
   "id": "5903977b",
   "metadata": {},
   "outputs": [
    {
     "name": "stdout",
     "output_type": "stream",
     "text": [
      "Accuracy of model at K=40 is 0.375\n"
     ]
    }
   ],
   "source": [
    "# Let us take K = 35\n",
    "\n",
    "k = 40\n",
    "knnClassifier = KNeighborsClassifier(n_neighbors = k, metric = 'minkowski', p=2). fit(X_train,y_train)\n",
    "Pred_y = knnClassifier.predict(X_test)\n",
    "print(\"Accuracy of model at K=40 is\", metrics. accuracy_score(y_test,Pred_y))"
   ]
  },
  {
   "cell_type": "code",
   "execution_count": 38,
   "id": "a2991eac",
   "metadata": {},
   "outputs": [],
   "source": [
    "# To find optima 'K' derive a plot between error rate and K denoting values in a defined\n",
    "# Then choose the K value as having a minimum error rate.\n",
    "# In general optimal value of 'K' : sqrt(N)\n",
    "# To get an upper limit to check for 'sqrt(N)+10'\n",
    "                #sqrt(N)\n",
    "                "
   ]
  },
  {
   "cell_type": "code",
   "execution_count": 43,
   "id": "86c285b7",
   "metadata": {},
   "outputs": [
    {
     "name": "stdout",
     "output_type": "stream",
     "text": [
      "Accuracy of model at K=33 is 0.375\n",
      "Confusion Matrix : \n",
      " [[29  3 12  7]\n",
      " [ 7 13 14 10]\n",
      " [21  6 21  6]\n",
      " [20  7 12 12]]\n",
      "Accuracy Score : 37.5 %\n"
     ]
    }
   ],
   "source": [
    "from sklearn import metrics\n",
    "k=33\n",
    "knnClassifier = KNeighborsClassifier(n_neighbors = k, metric = 'minkowski', p=2). fit(X_train,y_train)\n",
    "Pred_y = knnClassifier.predict(X_test)\n",
    "print(\"Accuracy of model at K=33 is\", metrics. accuracy_score(y_test,Pred_y))\n",
    "confusion_matrix = metrics.confusion_matrix(y_test, Pred_y)\n",
    "print('Confusion Matrix :','\\n',confusion_matrix)\n",
    "print('Accuracy Score :',metrics.accuracy_score(y_test, Pred_y)*100,'%')"
   ]
  },
  {
   "cell_type": "code",
   "execution_count": 44,
   "id": "893455fb",
   "metadata": {},
   "outputs": [
    {
     "name": "stdout",
     "output_type": "stream",
     "text": [
      "Classification Report : \n",
      "               precision    recall  f1-score   support\n",
      "\n",
      "           1       0.38      0.57      0.45        51\n",
      "           2       0.45      0.30      0.36        44\n",
      "           3       0.36      0.39      0.37        54\n",
      "           4       0.34      0.24      0.28        51\n",
      "\n",
      "    accuracy                           0.38       200\n",
      "   macro avg       0.38      0.37      0.37       200\n",
      "weighted avg       0.38      0.38      0.37       200\n",
      "\n"
     ]
    }
   ],
   "source": [
    "print('Classification Report :','\\n',metrics.classification_report(y_test, Pred_y))"
   ]
  }
 ],
 "metadata": {
  "kernelspec": {
   "display_name": "Python 3 (ipykernel)",
   "language": "python",
   "name": "python3"
  },
  "language_info": {
   "codemirror_mode": {
    "name": "ipython",
    "version": 3
   },
   "file_extension": ".py",
   "mimetype": "text/x-python",
   "name": "python",
   "nbconvert_exporter": "python",
   "pygments_lexer": "ipython3",
   "version": "3.9.7"
  }
 },
 "nbformat": 4,
 "nbformat_minor": 5
}
