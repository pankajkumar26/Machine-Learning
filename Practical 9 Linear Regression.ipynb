{
 "cells": [
  {
   "cell_type": "markdown",
   "id": "2c4a38d8",
   "metadata": {},
   "source": [
    "### Practical 9"
   ]
  },
  {
   "cell_type": "markdown",
   "id": "8391a1f9",
   "metadata": {},
   "source": [
    "###  Performing Simple Linear Regression on Employee_Salary_Data"
   ]
  },
  {
   "cell_type": "markdown",
   "id": "e8599158",
   "metadata": {},
   "source": [
    "Problem Statement:\n",
    "We are given dataset of list of salaries of employees at LMN Co. Ltd.\n",
    "The HR here has got a candidate with 7 years of experience.\n",
    "We need to predict the best salary that should be offered to him?"
   ]
  },
  {
   "cell_type": "code",
   "execution_count": 3,
   "id": "b570c18d",
   "metadata": {},
   "outputs": [],
   "source": [
    "# ----------------------------Step 1 : Importing the libraries ------------------------------\n",
    "import numpy as np\n",
    "import pandas as pd\n",
    "import sklearn \n",
    "import matplotlib.pyplot as plt\n",
    "\n",
    "\n",
    "#----------------------------Step 2: Importing the dataset\n",
    "dataset = pd.read_csv(\"D:/ML Dataset/Employee_Salary_Data.csv\")\n",
    "\n",
    "#------------------------ Step 3 : Retrieving independent features and dependent variable in X and y-------------\n",
    "# X: X is the first column which contains Years of Experience.\n",
    "#y:y is the last column which contains contains salary array.\n",
    "\n",
    "X = dataset.iloc[:, :-1].values #Independent Variable\n",
    "\n",
    "y = dataset.iloc[:, -1].values #Dependent Variable\n",
    "\n",
    "#------------------------ --Step 4: Splitting the dataset into the Training set and Test set------------------------\n",
    "\n",
    "# So if the whoe dataset contains th 30 observation and test size = 1/3 then\n",
    "# The split occurs such that 33.33% i.e. 10 approx of all these observations will be in the test set.\n",
    "\n",
    "from sklearn.model_selection import train_test_split\n",
    "\n",
    "X_train, X_test, y_train, y_test = train_test_split(X, y, test_size =1/3, random_state = 10)\n"
   ]
  },
  {
   "cell_type": "code",
   "execution_count": 4,
   "id": "c8b329ae",
   "metadata": {},
   "outputs": [
    {
     "name": "stdout",
     "output_type": "stream",
     "text": [
      "[[ 6. ]\n",
      " [ 4.5]\n",
      " [ 5.9]\n",
      " [ 3. ]\n",
      " [ 4. ]\n",
      " [ 8.2]\n",
      " [ 8.7]\n",
      " [10.3]\n",
      " [ 7.9]\n",
      " [ 3.9]\n",
      " [ 9.5]\n",
      " [10.5]\n",
      " [ 3.2]\n",
      " [ 9. ]\n",
      " [ 5.1]\n",
      " [ 5.3]\n",
      " [ 1.1]\n",
      " [ 4.9]\n",
      " [ 2.2]\n",
      " [ 3.7]] \n",
      "\n",
      "[ 93940.  61111.  81363.  60150.  55794. 113812. 109431. 122391. 101302.\n",
      "  63218. 116969. 121872.  64445. 105582.  66029.  83088.  39343.  67938.\n",
      "  39891.  57189.]\n"
     ]
    }
   ],
   "source": [
    "print(X_train,  y_train, sep=\" \\n\\n\")"
   ]
  },
  {
   "cell_type": "code",
   "execution_count": 5,
   "id": "838dfe9a",
   "metadata": {},
   "outputs": [
    {
     "data": {
      "text/plain": [
       "LinearRegression()"
      ]
     },
     "execution_count": 5,
     "metadata": {},
     "output_type": "execute_result"
    }
   ],
   "source": [
    "# ---------------Step 5: Training the Simple Linear Regression model on the Training set -----------------------------\n",
    "\n",
    "from sklearn.linear_model import LinearRegression\n",
    "\n",
    "# Now we create an instance (object) of LinearRegression class.\n",
    "# Naming the object as 'regressor' and simply calling the class constructor LinearRegression().\n",
    "# No parameters required.\n",
    "\n",
    "regressor = LinearRegression() #Constructor called for LinearRegression\n",
    "\n",
    "#Now we have got a Linear Regression model but we have to train it on the training set.\n",
    "#For this we have to connect it to the training set using fit() function\n",
    "\n",
    "\n",
    "\n",
    "regressor.fit(X_train, y_train)"
   ]
  },
  {
   "cell_type": "code",
   "execution_count": 6,
   "id": "fb110dd3",
   "metadata": {},
   "outputs": [
    {
     "data": {
      "text/plain": [
       "<matplotlib.collections.PathCollection at 0x22e41e07940>"
      ]
     },
     "execution_count": 6,
     "metadata": {},
     "output_type": "execute_result"
    },
    {
     "data": {
      "image/png": "[encoded data removed]",
      "text/plain": [
       "<Figure size 432x288 with 1 Axes>"
      ]
     },
     "metadata": {
      "needs_background": "light"
     },
     "output_type": "display_data"
    }
   ],
   "source": [
    "# --------------------------------Step 6: Visualizing the Training set results--------------------------------------------\n",
    "\n",
    "\n",
    "\n",
    "plt.scatter(X_train, y_train, color = 'magenta')\n",
    "\n",
    "# REsult: All the points are not in a line but they are in a line-shape. Thus, It;s linear. \n",
    "#and can be represented using Linear Regression.\n"
   ]
  },
  {
   "cell_type": "code",
   "execution_count": 7,
   "id": "a8815434",
   "metadata": {},
   "outputs": [
    {
     "data": {
      "image/png": "[encoded data removed]",
      "text/plain": [
       "<Figure size 432x288 with 1 Axes>"
      ]
     },
     "metadata": {
      "needs_background": "light"
     },
     "output_type": "display_data"
    }
   ],
   "source": [
    "# Plotting the scatter plot of predicted values with X_train.\n",
    "\n",
    "plt.scatter(X_train, regressor.predict(X_train), color ='blue')\n",
    "plt.title('Salary vs Experience (Training set)')\n",
    "plt.xlabel('Years of Experience')\n",
    "plt.ylabel(\"Salary\")\n",
    "plt.show()"
   ]
  },
  {
   "cell_type": "code",
   "execution_count": 8,
   "id": "a33a31fb",
   "metadata": {},
   "outputs": [
    {
     "data": {
      "image/png": "[encoded data removed]",
      "text/plain": [
       "<Figure size 432x288 with 1 Axes>"
      ]
     },
     "metadata": {
      "needs_background": "light"
     },
     "output_type": "display_data"
    }
   ],
   "source": [
    "plt.scatter(X_train, y_train, color = 'magenta')\n",
    "plt.plot(X_train, regressor.predict(X_train), color = 'green')\n",
    "plt.title('Salary vs Experience (Training set)')\n",
    "plt.xlabel('Years of Experience')\n",
    "plt.ylabel(\"Salary\")\n",
    "plt.show()"
   ]
  },
  {
   "cell_type": "code",
   "execution_count": 9,
   "id": "80f4027a",
   "metadata": {},
   "outputs": [
    {
     "data": {
      "image/png": "[encoded data removed]",
      "text/plain": [
       "<Figure size 432x288 with 1 Axes>"
      ]
     },
     "metadata": {
      "needs_background": "light"
     },
     "output_type": "display_data"
    }
   ],
   "source": [
    "# -------------------------------------Step 7: Visualising the Test set results------------------------------------------\n",
    "\n",
    "plt.scatter(X_test, y_test, color = 'magenta')\n",
    "\n",
    "\n",
    "# Note : The regresson line that we get results form a unique equation salary\n",
    "\n",
    "plt.plot(X_train, regressor.predict(X_train), color ='blue')\n",
    "plt.title('Salary vs Experience (Training set)')\n",
    "plt.xlabel('Years of Experience')\n",
    "plt.ylabel(\"Salary\")\n",
    "plt.show()"
   ]
  },
  {
   "cell_type": "code",
   "execution_count": 10,
   "id": "055044be",
   "metadata": {},
   "outputs": [],
   "source": [
    "# Oncomparing two plots, we can see 2 blue lines are the same direction.\n",
    "# Thus, our model is good to use now.\n"
   ]
  },
  {
   "cell_type": "code",
   "execution_count": 11,
   "id": "177d4453",
   "metadata": {},
   "outputs": [
    {
     "name": "stdout",
     "output_type": "stream",
     "text": [
      "[63688.60413598]\n",
      "[92232.17464658]\n"
     ]
    }
   ],
   "source": [
    "# Step 8 : Predicting the Test set results for single vector\n",
    "\n",
    "#Independent varaibles are by default stored in 2-D matrix\n",
    "# Dependent variables are stored in Series\n",
    "\n",
    "y_pred1 = regressor.predict([[4]])\n",
    "print(y_pred1)\n",
    "\n",
    "y_pred2 = regressor.predict([[7]])\n",
    "print(y_pred2)"
   ]
  },
  {
   "cell_type": "code",
   "execution_count": 12,
   "id": "06445b46",
   "metadata": {},
   "outputs": [
    {
     "name": "stdout",
     "output_type": "stream",
     "text": [
      "[ 90329.26994588  56076.98533315  53222.62828209  39902.29537714\n",
      "  44659.55712891  93183.62699694  64640.05648633 116969.93575577\n",
      "  63688.60413598  37999.39067643]\n"
     ]
    }
   ],
   "source": [
    "# Step 9 :Predicting the Test set results for Array X_test\n",
    "\n",
    "# We can also pass an array of X instead of single value of X.\n",
    "\n",
    "# The observations of the test set are six in number.\n",
    "#Now we wish to predict salaries for each of these observations.\n",
    "\n",
    "\n",
    "y_pred3 = regressor.predict(X_test)\n",
    "print(y_pred3)"
   ]
  },
  {
   "cell_type": "code",
   "execution_count": 13,
   "id": "d931d6cd",
   "metadata": {},
   "outputs": [
    {
     "name": "stdout",
     "output_type": "stream",
     "text": [
      "[9514.52350354]\n",
      "25630.51012183784\n"
     ]
    }
   ],
   "source": [
    "# Step 10\n",
    "# Getting the final linear REgression equation with the values of the coefficients\n",
    "\n",
    "# y m.x+c or y = B0 + B1.x\n",
    "print(regressor.coef_)    # slope or m or B1\n",
    "print(regressor.intercept_) # y-intercept when x value or year_exp = 0 or c or B0"
   ]
  },
  {
   "cell_type": "code",
   "execution_count": 14,
   "id": "afe84d8c",
   "metadata": {},
   "outputs": [],
   "source": [
    "# ------------------------------Step 11 : Forming equation of Linear Regression\n",
    "\n",
    "#Therefore, the equation of our simple linear regression model is:\n",
    "\n",
    "#    y = m.x + c\n",
    "\n",
    "#    y(i.e. Salary) = regressor.coef_.x(i.e. Years of Experience) + regressor.intercept_\n",
    "\n",
    "#    Salary = 9345.94 x YearsExperience +26816.19"
   ]
  },
  {
   "cell_type": "code",
   "execution_count": 15,
   "id": "196390d4",
   "metadata": {},
   "outputs": [
    {
     "name": "stdout",
     "output_type": "stream",
     "text": [
      "R squared: 95.69\n"
     ]
    }
   ],
   "source": [
    "# Model Evaluation\n",
    "\n",
    "print('R squared: {:.2f}'.format(regressor.score(X,y)*100))"
   ]
  },
  {
   "cell_type": "code",
   "execution_count": 16,
   "id": "92445edf",
   "metadata": {},
   "outputs": [
    {
     "name": "stdout",
     "output_type": "stream",
     "text": [
      "96.02319713033926 %\n"
     ]
    }
   ],
   "source": [
    "print(regressor.score(X_test,y_test)*100,\"%\")"
   ]
  },
  {
   "cell_type": "code",
   "execution_count": 17,
   "id": "6d4cecd2",
   "metadata": {},
   "outputs": [],
   "source": [
    "# Interpreting accuracy:\n",
    "\n",
    "# 1. R Squared: R Square is the coefficient of determination.\n",
    "# It tells us how many points fall on the regression line.\n",
    "# The value of R Square is 95.65, which indicates that 95.65% of the data fit the regression model"
   ]
  },
  {
   "cell_type": "code",
   "execution_count": 18,
   "id": "09f87be0",
   "metadata": {},
   "outputs": [],
   "source": [
    "# The difference between regression and classification is that :\n",
    "# Regression is used when we need to predict a continous real value like a salary or Grades\n",
    "# Classification is used when we need to predict a category or a class.\n"
   ]
  }
 ],
 "metadata": {
  "kernelspec": {
   "display_name": "Python 3 (ipykernel)",
   "language": "python",
   "name": "python3"
  },
  "language_info": {
   "codemirror_mode": {
    "name": "ipython",
    "version": 3
   },
   "file_extension": ".py",
   "mimetype": "text/x-python",
   "name": "python",
   "nbconvert_exporter": "python",
   "pygments_lexer": "ipython3",
   "version": "3.9.7"
  }
 },
 "nbformat": 4,
 "nbformat_minor": 5
}
